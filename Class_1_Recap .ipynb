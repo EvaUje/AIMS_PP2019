{
 "cells": [
  {
   "cell_type": "markdown",
   "metadata": {},
   "source": [
    "# Recap"
   ]
  },
  {
   "cell_type": "markdown",
   "metadata": {},
   "source": [
    "1. Running Python program from a fie\n",
    "2. Syntax: \n",
    "  - Indentation, no mandotory statement termination characters, comments, \n",
    "  - Operators: =, ==,!=, +=, -=, ...ect  \n",
    "3. Getting help: help(obj), dir(obj) and obj.\\__doc__\n",
    "4. Data structures: lists, tuples and dictionaries\n",
    "5. Strings: single, double or triple quoates\n",
    "6. Flow control statemens: if, if else, if elif...else, for, and while. \n",
    " -  <font color = 'red'>  break, continue, and pass </font> \n",
    " - Short version fo if else:  $<expression 1> if <condition> else <expression 2> $\n",
    "\n",
    " "
   ]
  },
  {
   "cell_type": "code",
   "execution_count": 21,
   "metadata": {},
   "outputs": [],
   "source": [
    "for i in range(10):\n",
    "    if i ==7:\n",
    "        continue\n",
    "    else:\n",
    "        pass#print(i)"
   ]
  },
  {
   "cell_type": "code",
   "execution_count": 13,
   "metadata": {},
   "outputs": [],
   "source": [
    "x = 5\n",
    "#dir(x)\n",
    "x= (1, 2,34, 7)\n",
    "x = {1: \"one\", 2: [3, 4 , 'blah']}\n",
    "x[3] = 'three'\n",
    "#help(x)"
   ]
  },
  {
   "cell_type": "code",
   "execution_count": 22,
   "metadata": {},
   "outputs": [
    {
     "data": {
      "text/plain": [
       "7"
      ]
     },
     "execution_count": 22,
     "metadata": {},
     "output_type": "execute_result"
    }
   ],
   "source": [
    "a ,b = 2, 3\n",
    "a +5 if a <b else b"
   ]
  },
  {
   "cell_type": "code",
   "execution_count": 23,
   "metadata": {},
   "outputs": [
    {
     "name": "stdout",
     "output_type": "stream",
     "text": [
      "7\n"
     ]
    }
   ],
   "source": [
    "if a < b:\n",
    "    print(a +5)\n",
    "else:\n",
    "    print(b)"
   ]
  },
  {
   "cell_type": "markdown",
   "metadata": {},
   "source": [
    "# List Comprehension\n",
    "L = [mapping-expression for element in source-list if filter-expression]"
   ]
  },
  {
   "cell_type": "code",
   "execution_count": 27,
   "metadata": {},
   "outputs": [
    {
     "name": "stdout",
     "output_type": "stream",
     "text": [
      "THE\n",
      "ME\n",
      "ON\n"
     ]
    },
    {
     "data": {
      "text/plain": [
       "['ME', 'ON']"
      ]
     },
     "execution_count": 27,
     "metadata": {},
     "output_type": "execute_result"
    }
   ],
   "source": [
    "x = ['the', 'me', 'on']\n",
    "for i in x:\n",
    "    print(i.upper())\n",
    "[i.upper()  for i in x if len(i) == 2]"
   ]
  },
  {
   "cell_type": "markdown",
   "metadata": {},
   "source": [
    "7. Functions: \n",
    "  - declared with the **def** keyword\n",
    "  - default arguments, named arguments\n",
    "  - \\*args  in Python\n"
   ]
  },
  {
   "cell_type": "code",
   "execution_count": 36,
   "metadata": {},
   "outputs": [],
   "source": [
    "from math import sqrt\n",
    "\n",
    "def quadratic(a, b, c =31):\n",
    "    x1 = -b / (2*a)\n",
    "    x2 = sqrt(b**2 - 4*a*c) / (2*a)\n",
    "    return (x1 + x2), (x1 - x2)"
   ]
  },
  {
   "cell_type": "code",
   "execution_count": 34,
   "metadata": {},
   "outputs": [
    {
     "name": "stdout",
     "output_type": "stream",
     "text": [
      "(-0.3819660112501051, -2.618033988749895)\n",
      "(-0.5, -1.0)\n",
      "(-1.0, -2.0)\n"
     ]
    }
   ],
   "source": [
    "print(quadratic(31, 93) ) # quadratic(a=31, b=93, c=62)\n",
    "print(quadratic(62, 93, 31))\n",
    "print(quadratic(c=62, b=93, a=31))"
   ]
  },
  {
   "cell_type": "code",
   "execution_count": null,
   "metadata": {},
   "outputs": [],
   "source": []
  },
  {
   "cell_type": "code",
   "execution_count": 37,
   "metadata": {},
   "outputs": [],
   "source": [
    "def my_list_prodct(*x):\n",
    "    s = 1\n",
    "    for arg in x:\n",
    "        s = s*arg\n",
    "    return s"
   ]
  },
  {
   "cell_type": "code",
   "execution_count": 39,
   "metadata": {},
   "outputs": [
    {
     "data": {
      "text/plain": [
       "180"
      ]
     },
     "execution_count": 39,
     "metadata": {},
     "output_type": "execute_result"
    }
   ],
   "source": [
    "my_list_prodct(1,3,5, 3,4)"
   ]
  },
  {
   "cell_type": "code",
   "execution_count": null,
   "metadata": {},
   "outputs": [],
   "source": []
  },
  {
   "cell_type": "markdown",
   "metadata": {},
   "source": [
    "8. More on functions: <font color = 'red'> Lambda functions </font> \n",
    " * Ad hoc or anonymous functions that are comprised of a single statement.\n",
    " * Lambda – filter, map, reduce: take a function and a list and applies the function\n",
    "to each elements in the list"
   ]
  },
  {
   "cell_type": "code",
   "execution_count": 35,
   "metadata": {},
   "outputs": [
    {
     "name": "stdout",
     "output_type": "stream",
     "text": [
      "16\n",
      "4\n"
     ]
    }
   ],
   "source": [
    "s = lambda x: x*x\n",
    "print(s(4))\n",
    "print((lambda x: x+2)(2)) "
   ]
  },
  {
   "cell_type": "code",
   "execution_count": 41,
   "metadata": {},
   "outputs": [
    {
     "data": {
      "text/plain": [
       "[5, 7, 8]"
      ]
     },
     "execution_count": 41,
     "metadata": {},
     "output_type": "execute_result"
    }
   ],
   "source": [
    "list(map(lambda x: x +3, [2,4,5]))"
   ]
  },
  {
   "cell_type": "code",
   "execution_count": 11,
   "metadata": {},
   "outputs": [],
   "source": [
    "from functools import reduce"
   ]
  },
  {
   "cell_type": "code",
   "execution_count": 12,
   "metadata": {},
   "outputs": [
    {
     "name": "stdout",
     "output_type": "stream",
     "text": [
      "[1, 8, 27, 64]\n",
      "[2, 3, 4]\n",
      "10\n"
     ]
    }
   ],
   "source": [
    "def cube(x):\n",
    "    return x*x*x\n",
    "\n",
    "results = map(cube, (1,2,3,4))\n",
    "print(list(results))\n",
    "\n",
    "results = filter(lambda x: x*x > 3, (1,2,3,4))\n",
    "print(list(results))\n",
    "results = reduce(lambda x, y: x+y , [1,2,3,4])\n",
    "print(results)"
   ]
  },
  {
   "cell_type": "code",
   "execution_count": 18,
   "metadata": {},
   "outputs": [
    {
     "name": "stdout",
     "output_type": "stream",
     "text": [
      "[2, 4, 2, 2]\n"
     ]
    }
   ],
   "source": [
    "def myfilter(x):  return True if x*x >3  else False\n",
    "    #if x*x >3:\n",
    "      #  return True\n",
    "    #else:\n",
    "     #   return False\n",
    "   \n",
    "results = filter(myfilter, [2,4,2, 2, 0.5])\n",
    "print(list(results))"
   ]
  },
  {
   "cell_type": "code",
   "execution_count": null,
   "metadata": {},
   "outputs": [],
   "source": []
  },
  {
   "cell_type": "markdown",
   "metadata": {},
   "source": [
    "# Exercises: \n",
    "1. Write a Python program that takes two lists and returns a list that contains only the elements that are common between the lists (without duplicates). Make sure your program works on two lists of different sizes.\n",
    "2. Write one line of Python program that takes a list  and returns a new list that has only the even elements of the given list. **Hint: use list comprehension**\n",
    "3. Write a function for checking the speed of drivers. This function should have one parameter:\n",
    " - If speed is less than 70, it should print “Ok”.\n",
    " - Otherwise, for every 5km above the speed limit (70), it should give the driver one demerit point and print the total number of demerit points and calculate fine, which is points $\\times 50$  RWF. For example, if the speed is 80, it should print: “Points: 2, Fine: 100 RWF ”.\n",
    " - If the driver gets more than 12 points, the function should print: “License suspended, Fine: points $\\times 50$  ”.\n",
    "4. Write a function that returns the sum of multiples of 3 and 5 between 0 and limit (parameter). For example, if limit is 20, it should return the sum of 3, 5, 6, 9, 10, 12, 15, 18, 20. \n",
    "5. Find the maximum of a list of numerical values by using lambda and reduce funtions\n",
    "6. Find the minumum of a list of numerical values by using lambda and reduce funtions\n",
    "7. Using recurssion, write a Python program to calculate the sum of a list of numbers. "
   ]
  },
  {
   "cell_type": "code",
   "execution_count": null,
   "metadata": {},
   "outputs": [],
   "source": []
  }
 ],
 "metadata": {
  "kernelspec": {
   "display_name": "Python 3",
   "language": "python",
   "name": "python3"
  },
  "language_info": {
   "codemirror_mode": {
    "name": "ipython",
    "version": 3
   },
   "file_extension": ".py",
   "mimetype": "text/x-python",
   "name": "python",
   "nbconvert_exporter": "python",
   "pygments_lexer": "ipython3",
   "version": "3.7.4"
  }
 },
 "nbformat": 4,
 "nbformat_minor": 2
}
