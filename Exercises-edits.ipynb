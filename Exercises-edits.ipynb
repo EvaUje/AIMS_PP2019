{
 "cells": [
  {
   "cell_type": "markdown",
   "metadata": {},
   "source": [
    "# <center> Exercises </center>\n",
    " ##  <center> These exercises are optional, have fun playing around with them</center>\n",
    "1.  Write a Python program to reverse a string. For example, 'python' becomes 'nohtyp'. Do not use the built-in reverse function. \n",
    "2. Write a Python function that takes a list and returns a new list with unique elements of the first list. Sample List : [1,2,3,3,3,3,4,5].  Unique List : [1, 2, 3, 4, 5]. Do not use the function set or the collections module.\n",
    "3.  Suppose the cover price of a book is FRW $24.95$, but bookstores get a $40\\%$ discount. Shipping\n",
    "costs FRW $3$ for the first copy and FRW$1$  for each additional copy. Write a Python programm that compute the total wholesale cost for 60 copies?\n",
    "4. Fermat’s Last Theorem says that there are no integers a, b, and c such that\n",
    "$$ a^n +b^n = c $$\n",
    "for any values of n greater than 2. Write a function, name it check_fermat, that prompts the user to input values for a, b, c and n, converts them to integers, and use check_fermat to check whether they violate Fermat’s theorem. **Hint** use the power function from the math module.\n",
    "5. The Ackermann function, A(m,n), is defined (see on [Wikipedia](https://en.wikipedia.org/wiki/Ackermann_function))\n",
    "   $$ A(m, n) =\n",
    "  \\begin{cases}\n",
    "    n+1      & \\quad \\text{if } m=0 \\\\\n",
    "    A(m-1, 1)  & \\quad \\text{if } m>0 \\text{ and } n=0\\\\\n",
    "    A(m-1, A(m, n-1)))  & \\quad \\text{if } m>0 \\text{ and } n>0\\\\\n",
    "  \\end{cases}\n",
    "$$\n",
    "Write a function named ack that evaluates Ackerman’s function. Use your function to evaluate\n",
    "ack(3, 4), which should be 125. What happens for larger values of m and n? **Hint**: use a recursive function.\n",
    "6. Write a Python program to construct the  pattern in below picture, using a nested for loop.\n",
    "   ![Syntax](python-conditional-image-exercise-4.png)\n",
    "   \n",
    "7. Write a Python program to find missing numbers from a list. for example Input : [1,2,3,4,6,7,10]. Output : [5, 8, 9].\n",
    "8. Write a Python program to push all zeros to the end of a list.\n",
    "Example: Input : [0,2,3,4,6,7,10].\n",
    "Output : [2, 3, 4, 6, 7, 10, 0].\n",
    "9. Write a function using recursion that takes in a string and returns a reversed copy of the string. The only string operation you are allowed to use is string concatenation.\n",
    "10. Write a function using recursion to check whether a number n is a prime number (you have to check whether n is divisible by\n",
    "any number below n). \n",
    "\n"
   ]
  },
  {
   "cell_type": "code",
   "execution_count": null,
   "metadata": {},
   "outputs": [],
   "source": []
  }
 ],
 "metadata": {
  "kernelspec": {
   "display_name": "Python 3",
   "language": "python",
   "name": "python3"
  },
  "language_info": {
   "codemirror_mode": {
    "name": "ipython",
    "version": 3
   },
   "file_extension": ".py",
   "mimetype": "text/x-python",
   "name": "python",
   "nbconvert_exporter": "python",
   "pygments_lexer": "ipython3",
   "version": "3.7.3"
  }
 },
 "nbformat": 4,
 "nbformat_minor": 2
}
